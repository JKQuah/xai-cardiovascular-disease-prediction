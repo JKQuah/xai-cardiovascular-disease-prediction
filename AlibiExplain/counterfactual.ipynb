{
 "cells": [
  {
   "cell_type": "markdown",
   "id": "7af441b4",
   "metadata": {},
   "source": []
  },
  {
   "cell_type": "code",
   "execution_count": 1,
   "id": "4685fa07",
   "metadata": {},
   "outputs": [],
   "source": [
    "# Supress jupyter warnings if required for cleaner output\n",
    "import warnings\n",
    "warnings.simplefilter('ignore')"
   ]
  },
  {
   "cell_type": "markdown",
   "id": "e59da96b",
   "metadata": {},
   "source": [
    "### Import Library"
   ]
  },
  {
   "cell_type": "code",
   "execution_count": 2,
   "id": "02491bd5",
   "metadata": {},
   "outputs": [
    {
     "name": "stdout",
     "output_type": "stream",
     "text": [
      "TF version:  2.14.0\n",
      "Eager execution enabled:  False\n"
     ]
    }
   ],
   "source": [
    "%matplotlib inline\n",
    "import matplotlib.pyplot as plt\n",
    "\n",
    "import tensorflow as tf\n",
    "tf.get_logger().setLevel(40) # suppress deprecation messages\n",
    "tf.compat.v1.disable_v2_behavior() # disable TF2 behaviour as alibi code still relies on TF1 constructs\n",
    "from tensorflow.keras.layers import Dense, Input\n",
    "from tensorflow.keras.models import Model, load_model\n",
    "from tensorflow.keras.utils import to_categorical\n",
    "\n",
    "import os\n",
    "import numpy as np\n",
    "import pandas as pd\n",
    "from sklearn.metrics import classification_report\n",
    "from sklearn.model_selection import train_test_split\n",
    "from alibi.explainers import CounterfactualProto\n",
    "\n",
    "print('TF version: ', tf.__version__)\n",
    "print('Eager execution enabled: ', tf.executing_eagerly()) # False"
   ]
  },
  {
   "cell_type": "markdown",
   "id": "fc09bfc4",
   "metadata": {},
   "source": [
    "### Import data"
   ]
  },
  {
   "cell_type": "code",
   "execution_count": 3,
   "id": "f9ab740b",
   "metadata": {},
   "outputs": [
    {
     "data": {
      "text/html": [
       "<div>\n",
       "<style scoped>\n",
       "    .dataframe tbody tr th:only-of-type {\n",
       "        vertical-align: middle;\n",
       "    }\n",
       "\n",
       "    .dataframe tbody tr th {\n",
       "        vertical-align: top;\n",
       "    }\n",
       "\n",
       "    .dataframe thead th {\n",
       "        text-align: right;\n",
       "    }\n",
       "</style>\n",
       "<table border=\"1\" class=\"dataframe\">\n",
       "  <thead>\n",
       "    <tr style=\"text-align: right;\">\n",
       "      <th></th>\n",
       "      <th>age</th>\n",
       "      <th>gender</th>\n",
       "      <th>cholesterol</th>\n",
       "      <th>gluc</th>\n",
       "      <th>smoke</th>\n",
       "      <th>bmi</th>\n",
       "      <th>systolic_bp</th>\n",
       "      <th>diastolic_bp</th>\n",
       "      <th>cardio</th>\n",
       "    </tr>\n",
       "  </thead>\n",
       "  <tbody>\n",
       "    <tr>\n",
       "      <th>0</th>\n",
       "      <td>50.39</td>\n",
       "      <td>2</td>\n",
       "      <td>1</td>\n",
       "      <td>1</td>\n",
       "      <td>0</td>\n",
       "      <td>21.97</td>\n",
       "      <td>110</td>\n",
       "      <td>80</td>\n",
       "      <td>0</td>\n",
       "    </tr>\n",
       "    <tr>\n",
       "      <th>1</th>\n",
       "      <td>51.66</td>\n",
       "      <td>1</td>\n",
       "      <td>3</td>\n",
       "      <td>1</td>\n",
       "      <td>0</td>\n",
       "      <td>23.51</td>\n",
       "      <td>130</td>\n",
       "      <td>70</td>\n",
       "      <td>1</td>\n",
       "    </tr>\n",
       "    <tr>\n",
       "      <th>2</th>\n",
       "      <td>48.41</td>\n",
       "      <td>1</td>\n",
       "      <td>1</td>\n",
       "      <td>1</td>\n",
       "      <td>0</td>\n",
       "      <td>28.44</td>\n",
       "      <td>110</td>\n",
       "      <td>70</td>\n",
       "      <td>0</td>\n",
       "    </tr>\n",
       "    <tr>\n",
       "      <th>3</th>\n",
       "      <td>51.55</td>\n",
       "      <td>2</td>\n",
       "      <td>1</td>\n",
       "      <td>1</td>\n",
       "      <td>0</td>\n",
       "      <td>20.05</td>\n",
       "      <td>120</td>\n",
       "      <td>80</td>\n",
       "      <td>0</td>\n",
       "    </tr>\n",
       "    <tr>\n",
       "      <th>4</th>\n",
       "      <td>58.35</td>\n",
       "      <td>1</td>\n",
       "      <td>1</td>\n",
       "      <td>1</td>\n",
       "      <td>0</td>\n",
       "      <td>25.95</td>\n",
       "      <td>130</td>\n",
       "      <td>70</td>\n",
       "      <td>0</td>\n",
       "    </tr>\n",
       "  </tbody>\n",
       "</table>\n",
       "</div>"
      ],
      "text/plain": [
       "     age  gender  cholesterol  gluc  smoke    bmi  systolic_bp  diastolic_bp  \\\n",
       "0  50.39       2            1     1      0  21.97          110            80   \n",
       "1  51.66       1            3     1      0  23.51          130            70   \n",
       "2  48.41       1            1     1      0  28.44          110            70   \n",
       "3  51.55       2            1     1      0  20.05          120            80   \n",
       "4  58.35       1            1     1      0  25.95          130            70   \n",
       "\n",
       "   cardio  \n",
       "0       0  \n",
       "1       1  \n",
       "2       0  \n",
       "3       0  \n",
       "4       0  "
      ]
     },
     "execution_count": 3,
     "metadata": {},
     "output_type": "execute_result"
    }
   ],
   "source": [
    "heart = pd.read_csv(\"cardio_min.csv\")\n",
    "\n",
    "heart = heart.drop(columns=['id'])\n",
    "heart = heart[['age', 'gender', 'cholesterol', 'gluc', 'smoke', 'bmi', 'systolic_bp', 'diastolic_bp', 'cardio']]\n",
    "\n",
    "heart.head()"
   ]
  },
  {
   "cell_type": "code",
   "execution_count": 4,
   "id": "b4ffd0f6",
   "metadata": {},
   "outputs": [],
   "source": [
    "X = heart.drop(\"cardio\", axis = 1)\n",
    "y = heart[\"cardio\"]\n",
    "\n",
    "X_train, X_test, y_train, y_test = train_test_split(\n",
    "    X, y, test_size = 0.2, random_state=42\n",
    ")"
   ]
  },
  {
   "cell_type": "code",
   "execution_count": 5,
   "id": "856136d5",
   "metadata": {},
   "outputs": [
    {
     "data": {
      "text/html": [
       "<style>#sk-container-id-1 {color: black;}#sk-container-id-1 pre{padding: 0;}#sk-container-id-1 div.sk-toggleable {background-color: white;}#sk-container-id-1 label.sk-toggleable__label {cursor: pointer;display: block;width: 100%;margin-bottom: 0;padding: 0.3em;box-sizing: border-box;text-align: center;}#sk-container-id-1 label.sk-toggleable__label-arrow:before {content: \"▸\";float: left;margin-right: 0.25em;color: #696969;}#sk-container-id-1 label.sk-toggleable__label-arrow:hover:before {color: black;}#sk-container-id-1 div.sk-estimator:hover label.sk-toggleable__label-arrow:before {color: black;}#sk-container-id-1 div.sk-toggleable__content {max-height: 0;max-width: 0;overflow: hidden;text-align: left;background-color: #f0f8ff;}#sk-container-id-1 div.sk-toggleable__content pre {margin: 0.2em;color: black;border-radius: 0.25em;background-color: #f0f8ff;}#sk-container-id-1 input.sk-toggleable__control:checked~div.sk-toggleable__content {max-height: 200px;max-width: 100%;overflow: auto;}#sk-container-id-1 input.sk-toggleable__control:checked~label.sk-toggleable__label-arrow:before {content: \"▾\";}#sk-container-id-1 div.sk-estimator input.sk-toggleable__control:checked~label.sk-toggleable__label {background-color: #d4ebff;}#sk-container-id-1 div.sk-label input.sk-toggleable__control:checked~label.sk-toggleable__label {background-color: #d4ebff;}#sk-container-id-1 input.sk-hidden--visually {border: 0;clip: rect(1px 1px 1px 1px);clip: rect(1px, 1px, 1px, 1px);height: 1px;margin: -1px;overflow: hidden;padding: 0;position: absolute;width: 1px;}#sk-container-id-1 div.sk-estimator {font-family: monospace;background-color: #f0f8ff;border: 1px dotted black;border-radius: 0.25em;box-sizing: border-box;margin-bottom: 0.5em;}#sk-container-id-1 div.sk-estimator:hover {background-color: #d4ebff;}#sk-container-id-1 div.sk-parallel-item::after {content: \"\";width: 100%;border-bottom: 1px solid gray;flex-grow: 1;}#sk-container-id-1 div.sk-label:hover label.sk-toggleable__label {background-color: #d4ebff;}#sk-container-id-1 div.sk-serial::before {content: \"\";position: absolute;border-left: 1px solid gray;box-sizing: border-box;top: 0;bottom: 0;left: 50%;z-index: 0;}#sk-container-id-1 div.sk-serial {display: flex;flex-direction: column;align-items: center;background-color: white;padding-right: 0.2em;padding-left: 0.2em;position: relative;}#sk-container-id-1 div.sk-item {position: relative;z-index: 1;}#sk-container-id-1 div.sk-parallel {display: flex;align-items: stretch;justify-content: center;background-color: white;position: relative;}#sk-container-id-1 div.sk-item::before, #sk-container-id-1 div.sk-parallel-item::before {content: \"\";position: absolute;border-left: 1px solid gray;box-sizing: border-box;top: 0;bottom: 0;left: 50%;z-index: -1;}#sk-container-id-1 div.sk-parallel-item {display: flex;flex-direction: column;z-index: 1;position: relative;background-color: white;}#sk-container-id-1 div.sk-parallel-item:first-child::after {align-self: flex-end;width: 50%;}#sk-container-id-1 div.sk-parallel-item:last-child::after {align-self: flex-start;width: 50%;}#sk-container-id-1 div.sk-parallel-item:only-child::after {width: 0;}#sk-container-id-1 div.sk-dashed-wrapped {border: 1px dashed gray;margin: 0 0.4em 0.5em 0.4em;box-sizing: border-box;padding-bottom: 0.4em;background-color: white;}#sk-container-id-1 div.sk-label label {font-family: monospace;font-weight: bold;display: inline-block;line-height: 1.2em;}#sk-container-id-1 div.sk-label-container {text-align: center;}#sk-container-id-1 div.sk-container {/* jupyter's `normalize.less` sets `[hidden] { display: none; }` but bootstrap.min.css set `[hidden] { display: none !important; }` so we also need the `!important` here to be able to override the default hidden behavior on the sphinx rendered scikit-learn.org. See: https://github.com/scikit-learn/scikit-learn/issues/21755 */display: inline-block !important;position: relative;}#sk-container-id-1 div.sk-text-repr-fallback {display: none;}</style><div id=\"sk-container-id-1\" class=\"sk-top-container\"><div class=\"sk-text-repr-fallback\"><pre>RandomForestClassifier(random_state=0)</pre><b>In a Jupyter environment, please rerun this cell to show the HTML representation or trust the notebook. <br />On GitHub, the HTML representation is unable to render, please try loading this page with nbviewer.org.</b></div><div class=\"sk-container\" hidden><div class=\"sk-item\"><div class=\"sk-estimator sk-toggleable\"><input class=\"sk-toggleable__control sk-hidden--visually\" id=\"sk-estimator-id-1\" type=\"checkbox\" checked><label for=\"sk-estimator-id-1\" class=\"sk-toggleable__label sk-toggleable__label-arrow\">RandomForestClassifier</label><div class=\"sk-toggleable__content\"><pre>RandomForestClassifier(random_state=0)</pre></div></div></div></div></div>"
      ],
      "text/plain": [
       "RandomForestClassifier(random_state=0)"
      ]
     },
     "execution_count": 5,
     "metadata": {},
     "output_type": "execute_result"
    }
   ],
   "source": [
    "from sklearn.ensemble import RandomForestClassifier\n",
    "\n",
    "model = RandomForestClassifier(random_state=0)\n",
    "model.fit(X_train, y_train)"
   ]
  },
  {
   "cell_type": "code",
   "execution_count": 6,
   "id": "c16a018a",
   "metadata": {},
   "outputs": [],
   "source": [
    "y_pred = model.predict(X_test.to_numpy())"
   ]
  },
  {
   "cell_type": "code",
   "execution_count": 7,
   "id": "526bfcab",
   "metadata": {},
   "outputs": [
    {
     "name": "stdout",
     "output_type": "stream",
     "text": [
      "              precision    recall  f1-score   support\n",
      "\n",
      "           0       0.70      0.73      0.72      1927\n",
      "           1       0.71      0.68      0.70      1874\n",
      "\n",
      "    accuracy                           0.71      3801\n",
      "   macro avg       0.71      0.71      0.71      3801\n",
      "weighted avg       0.71      0.71      0.71      3801\n",
      "\n"
     ]
    }
   ],
   "source": [
    "print(classification_report(y_test, y_pred))"
   ]
  },
  {
   "cell_type": "code",
   "execution_count": 8,
   "id": "440ff7f9",
   "metadata": {},
   "outputs": [],
   "source": [
    "predict_fn = lambda x: model.predict_proba(x)"
   ]
  },
  {
   "cell_type": "code",
   "execution_count": 9,
   "id": "ed2d6f29",
   "metadata": {},
   "outputs": [],
   "source": [
    "class_names=['low risk', 'high risk']"
   ]
  },
  {
   "cell_type": "markdown",
   "id": "a44668b7",
   "metadata": {},
   "source": [
    "#### Original instance"
   ]
  },
  {
   "cell_type": "code",
   "execution_count": 10,
   "id": "ce062880",
   "metadata": {},
   "outputs": [],
   "source": [
    "idx = 5"
   ]
  },
  {
   "cell_type": "code",
   "execution_count": 11,
   "id": "e6c3fe59",
   "metadata": {},
   "outputs": [
    {
     "name": "stdout",
     "output_type": "stream",
     "text": [
      "age              56.21\n",
      "gender            2.00\n",
      "cholesterol       1.00\n",
      "gluc              1.00\n",
      "smoke             0.00\n",
      "bmi              23.88\n",
      "systolic_bp     120.00\n",
      "diastolic_bp     80.00\n",
      "Name: 12439, dtype: float64\n"
     ]
    }
   ],
   "source": [
    "print(X_test.iloc[idx])"
   ]
  },
  {
   "cell_type": "code",
   "execution_count": 12,
   "id": "fc15eb04",
   "metadata": {},
   "outputs": [
    {
     "name": "stdout",
     "output_type": "stream",
     "text": [
      "(1, 8)\n"
     ]
    }
   ],
   "source": [
    "original = X_test.iloc[idx].values.reshape((1,) + X_test.iloc[idx].shape)\n",
    "shape = original.shape\n",
    "print(shape)"
   ]
  },
  {
   "cell_type": "markdown",
   "id": "e3ec3659",
   "metadata": {},
   "source": [
    "#### Counterfactual instance"
   ]
  },
  {
   "cell_type": "code",
   "execution_count": 13,
   "id": "54d590b6",
   "metadata": {},
   "outputs": [
    {
     "name": "stderr",
     "output_type": "stream",
     "text": [
      "No encoder specified. Using k-d trees to represent class prototypes.\n"
     ]
    },
    {
     "data": {
      "text/plain": [
       "CounterfactualProto(meta={\n",
       "  'name': 'CounterfactualProto',\n",
       "  'type': ['blackbox', 'tensorflow', 'keras'],\n",
       "  'explanations': ['local'],\n",
       "  'params': {\n",
       "              'kappa': 0.0,\n",
       "              'beta': 0.1,\n",
       "              'gamma': 0.0,\n",
       "              'theta': 10.0,\n",
       "              'cat_vars': None,\n",
       "              'ohe': False,\n",
       "              'use_kdtree': True,\n",
       "              'learning_rate_init': 0.01,\n",
       "              'max_iterations': 1000,\n",
       "              'c_init': 1.0,\n",
       "              'c_steps': 10,\n",
       "              'eps': (0.001, 0.001),\n",
       "              'clip': (-1000.0, 1000.0),\n",
       "              'update_num_grad': 1,\n",
       "              'write_dir': None,\n",
       "              'feature_range': (age             29.58\n",
       "gender           1.00\n",
       "cholesterol      1.00\n",
       "gluc             1.00\n",
       "smoke            0.00\n",
       "bmi              3.47\n",
       "systolic_bp     10.00\n",
       "diastolic_bp     0.00\n",
       "dtype: float64, age              64.90\n",
       "gender            2.00\n",
       "cholesterol       3.00\n",
       "gluc              3.00\n",
       "smoke             1.00\n",
       "bmi             178.21\n",
       "systolic_bp     240.00\n",
       "diastolic_bp    182.00\n",
       "dtype: float64),\n",
       "              'shape': (1, 8),\n",
       "              'is_model': False,\n",
       "              'is_ae': False,\n",
       "              'is_enc': False,\n",
       "              'enc_or_kdtree': True,\n",
       "              'is_cat': False,\n",
       "              'trustscore_kwargs': None,\n",
       "              'd_type': 'abdm',\n",
       "              'w': None,\n",
       "              'disc_perc': (25, 50, 75),\n",
       "              'standardize_cat_vars': False,\n",
       "              'smooth': 1.0,\n",
       "              'center': True,\n",
       "              'update_feature_range': True}\n",
       "            ,\n",
       "  'version': '0.9.4'}\n",
       ")"
      ]
     },
     "execution_count": 13,
     "metadata": {},
     "output_type": "execute_result"
    }
   ],
   "source": [
    "# initialize and fit the explainer\n",
    "cf = CounterfactualProto(predict_fn, shape, use_kdtree=True, theta=10., max_iterations=1000,\n",
    "                         feature_range=(X_train.min(axis=0), X_train.max(axis=0)),\n",
    "                         c_init=1., c_steps=10)\n",
    "\n",
    "cf.fit(X_test.values)"
   ]
  },
  {
   "cell_type": "code",
   "execution_count": 14,
   "id": "cd0b0f8f",
   "metadata": {},
   "outputs": [
    {
     "name": "stderr",
     "output_type": "stream",
     "text": [
      "2024-02-23 21:51:00.744537: I tensorflow/compiler/mlir/mlir_graph_optimization_pass.cc:382] MLIR V1 optimization pass is not enabled\n"
     ]
    }
   ],
   "source": [
    "explanation = cf.explain(original)"
   ]
  },
  {
   "cell_type": "code",
   "execution_count": 15,
   "id": "c0353b4f",
   "metadata": {},
   "outputs": [
    {
     "name": "stdout",
     "output_type": "stream",
     "text": [
      "Original prediction: 0\n",
      "Counterfactual prediction: 1\n"
     ]
    }
   ],
   "source": [
    "print(f'Original prediction: {explanation.orig_class}')\n",
    "print(f'Counterfactual prediction: {explanation.cf[\"class\"]}')"
   ]
  },
  {
   "cell_type": "code",
   "execution_count": 16,
   "id": "a6ea63ef",
   "metadata": {},
   "outputs": [
    {
     "name": "stdout",
     "output_type": "stream",
     "text": [
      "Index(['age', 'gender', 'cholesterol', 'gluc', 'smoke', 'bmi', 'systolic_bp',\n",
      "       'diastolic_bp'],\n",
      "      dtype='object')\n"
     ]
    }
   ],
   "source": [
    "feature_names = X.columns\n",
    "print(feature_names)"
   ]
  },
  {
   "cell_type": "code",
   "execution_count": 17,
   "id": "e7791137",
   "metadata": {},
   "outputs": [
    {
     "name": "stdout",
     "output_type": "stream",
     "text": [
      "bmi: 0.6966143798828135\n"
     ]
    }
   ],
   "source": [
    "orig = original\n",
    "counterfactual = explanation.cf['X']\n",
    "delta = counterfactual - orig\n",
    "\n",
    "for i, f in enumerate(feature_names):\n",
    "    if np.abs(delta[0][i]) > 1e-4:\n",
    "        print(f'{f}: {delta[0][i]}')\n"
   ]
  },
  {
   "cell_type": "code",
   "execution_count": 18,
   "id": "b566588a",
   "metadata": {},
   "outputs": [
    {
     "data": {
      "text/html": [
       "<div>\n",
       "<style scoped>\n",
       "    .dataframe tbody tr th:only-of-type {\n",
       "        vertical-align: middle;\n",
       "    }\n",
       "\n",
       "    .dataframe tbody tr th {\n",
       "        vertical-align: top;\n",
       "    }\n",
       "\n",
       "    .dataframe thead th {\n",
       "        text-align: right;\n",
       "    }\n",
       "</style>\n",
       "<table border=\"1\" class=\"dataframe\">\n",
       "  <thead>\n",
       "    <tr style=\"text-align: right;\">\n",
       "      <th></th>\n",
       "      <th>age</th>\n",
       "      <th>gender</th>\n",
       "      <th>cholesterol</th>\n",
       "      <th>gluc</th>\n",
       "      <th>smoke</th>\n",
       "      <th>bmi</th>\n",
       "      <th>systolic_bp</th>\n",
       "      <th>diastolic_bp</th>\n",
       "    </tr>\n",
       "  </thead>\n",
       "  <tbody>\n",
       "    <tr>\n",
       "      <th>0</th>\n",
       "      <td>56.21</td>\n",
       "      <td>2.0</td>\n",
       "      <td>1.0</td>\n",
       "      <td>1.0</td>\n",
       "      <td>0.0</td>\n",
       "      <td>23.88</td>\n",
       "      <td>120.0</td>\n",
       "      <td>80.0</td>\n",
       "    </tr>\n",
       "  </tbody>\n",
       "</table>\n",
       "</div>"
      ],
      "text/plain": [
       "     age  gender  cholesterol  gluc  smoke    bmi  systolic_bp  diastolic_bp\n",
       "0  56.21     2.0          1.0   1.0    0.0  23.88        120.0          80.0"
      ]
     },
     "execution_count": 18,
     "metadata": {},
     "output_type": "execute_result"
    }
   ],
   "source": [
    "pd.DataFrame(orig, columns=feature_names)"
   ]
  },
  {
   "cell_type": "code",
   "execution_count": 19,
   "id": "94551a4f",
   "metadata": {},
   "outputs": [
    {
     "data": {
      "text/html": [
       "<div>\n",
       "<style scoped>\n",
       "    .dataframe tbody tr th:only-of-type {\n",
       "        vertical-align: middle;\n",
       "    }\n",
       "\n",
       "    .dataframe tbody tr th {\n",
       "        vertical-align: top;\n",
       "    }\n",
       "\n",
       "    .dataframe thead th {\n",
       "        text-align: right;\n",
       "    }\n",
       "</style>\n",
       "<table border=\"1\" class=\"dataframe\">\n",
       "  <thead>\n",
       "    <tr style=\"text-align: right;\">\n",
       "      <th></th>\n",
       "      <th>age</th>\n",
       "      <th>gender</th>\n",
       "      <th>cholesterol</th>\n",
       "      <th>gluc</th>\n",
       "      <th>smoke</th>\n",
       "      <th>bmi</th>\n",
       "      <th>systolic_bp</th>\n",
       "      <th>diastolic_bp</th>\n",
       "    </tr>\n",
       "  </thead>\n",
       "  <tbody>\n",
       "    <tr>\n",
       "      <th>0</th>\n",
       "      <td>56.209999</td>\n",
       "      <td>2.0</td>\n",
       "      <td>1.0</td>\n",
       "      <td>1.0</td>\n",
       "      <td>0.0</td>\n",
       "      <td>24.576614</td>\n",
       "      <td>120.0</td>\n",
       "      <td>80.0</td>\n",
       "    </tr>\n",
       "  </tbody>\n",
       "</table>\n",
       "</div>"
      ],
      "text/plain": [
       "         age  gender  cholesterol  gluc  smoke        bmi  systolic_bp  \\\n",
       "0  56.209999     2.0          1.0   1.0    0.0  24.576614        120.0   \n",
       "\n",
       "   diastolic_bp  \n",
       "0          80.0  "
      ]
     },
     "execution_count": 19,
     "metadata": {},
     "output_type": "execute_result"
    }
   ],
   "source": [
    "pd.DataFrame(counterfactual, columns=feature_names)"
   ]
  },
  {
   "cell_type": "markdown",
   "id": "9586f09b",
   "metadata": {},
   "source": [
    "# Counterfactual Explanation Prototype\n",
    "\n",
    "### Type of explanation\n",
    "\n",
    "Type of explanation: **Counterfactual** \n",
    "\n",
    "Scope: **Local** \n",
    "\n",
    "Techniques: **Counterfactual by Alibi** \n",
    "\n",
    "### Stakeholders\n",
    "\n",
    "| Stakeholders          | Project Role                   |\n",
    "|-----------------------|--------------------------------|\n",
    "| Developer Team        | AI developer                   |\n",
    "| Subject Matter Expert | Senior consultant cardiologist |\n",
    "| Decision Maker        | Cardiologist                   |\n",
    "| Affected users        | Patient                        |\n",
    "\n",
    "\n",
    "## User Stories collected from stakeholders\n",
    "\n",
    "Question-type: How to\n",
    "\n",
    "| Persona                         | Need                                                              | Timeliness                | Goal                                                                                         |\n",
    "| ------------------------------- | ----------------------------------------------------------------- | ------------------------- | -------------------------------------------------------------------------------------------- |\n",
    "| As an AI developer              | I want to understand **how to** lower the patient's risk          | after testing the system, | so that I can analyze changes to the patient health metrics                                  |\n",
    "| As a senior consultant cardiologist                  | I want to understand **how to** adjust a patient’s health metrics | after using the system,   | so that I can decrease patient's heart disease risk assessment                               |\n",
    "| As a physician                  | I want to understand **how to** adjust a patient’s health metrics | after using the system,   | so that I can provide specific guidance on addressing his eating habits and lifestyle.       |\n",
    "| As a general population patient | I want to understand **how to** modify my health metrics          | after using the system,   | so that I can take actionable steps to lower my risk level based on the system's prediction. |"
   ]
  },
  {
   "cell_type": "markdown",
   "id": "472fa9f0",
   "metadata": {},
   "source": [
    "# Explanation for AI develper"
   ]
  },
  {
   "cell_type": "code",
   "execution_count": 34,
   "id": "053b2379",
   "metadata": {},
   "outputs": [],
   "source": [
    "def explain_to_developer(idx):\n",
    "    print(X_test.iloc[idx])\n",
    "    original = X_test.iloc[idx].values.reshape((1,) + X_test.iloc[idx].shape)\n",
    "    \n",
    "    explanation = cf.explain(original)\n",
    "    \n",
    "    print(f'\\nOriginal prediction: {explanation.orig_class}')\n",
    "    print(f'\\nCounterfactual prediction: {explanation.cf[\"class\"]}')\n",
    "    print()\n",
    "    \n",
    "    feature_names = X.columns\n",
    "    \n",
    "    orig = original\n",
    "    counterfactual = explanation.cf['X']\n",
    "    delta = counterfactual - orig\n",
    "\n",
    "    for i, f in enumerate(feature_names):\n",
    "        if np.abs(delta[0][i]) > 1e-4:\n",
    "            print(f'reduce {f}: {delta[0][i]}')\n",
    "    \n",
    "    return (orig, counterfactual)"
   ]
  },
  {
   "cell_type": "code",
   "execution_count": null,
   "id": "bd420d52",
   "metadata": {},
   "outputs": [],
   "source": []
  },
  {
   "cell_type": "code",
   "execution_count": 35,
   "id": "fea2213f",
   "metadata": {},
   "outputs": [
    {
     "name": "stdout",
     "output_type": "stream",
     "text": [
      "age              56.21\n",
      "gender            2.00\n",
      "cholesterol       1.00\n",
      "gluc              1.00\n",
      "smoke             0.00\n",
      "bmi              23.88\n",
      "systolic_bp     120.00\n",
      "diastolic_bp     80.00\n",
      "Name: 12439, dtype: float64\n",
      "\n",
      "Original prediction: 0\n",
      "\n",
      "Counterfactual prediction: 1\n",
      "\n",
      "reduce bmi: 0.6966143798828135\n"
     ]
    }
   ],
   "source": [
    "example_1 = explain_to_developer(5)"
   ]
  },
  {
   "cell_type": "markdown",
   "id": "ba473b11",
   "metadata": {},
   "source": [
    "# Explanation for Senior Consultant Cardiologist"
   ]
  },
  {
   "cell_type": "markdown",
   "id": "0ff1f326",
   "metadata": {},
   "source": [
    "Since age and sex are non-modifiable feature"
   ]
  },
  {
   "cell_type": "code",
   "execution_count": 32,
   "id": "a6fcb940",
   "metadata": {},
   "outputs": [],
   "source": [
    "def explain_to_cardiologist(idx):\n",
    "    print(X_test.iloc[idx])\n",
    "    original = X_test.iloc[idx].values.reshape((1,) + X_test.iloc[idx].shape)\n",
    "    \n",
    "    explanation = cf.explain(original)\n",
    "    \n",
    "    if explanation is None: return False\n",
    "    \n",
    "    print(f'\\nOriginal prediction: {explanation.orig_class}')\n",
    "    print(f'Counterfactual prediction: {explanation.cf[\"class\"]}')\n",
    "    print()\n",
    "    \n",
    "    feature_names = X.columns\n",
    "    \n",
    "    orig = original\n",
    "    counterfactual = explanation.cf['X']\n",
    "    delta = counterfactual - orig\n",
    "    \n",
    "    for i, f in enumerate(feature_names):\n",
    "        if f == \"age\" or f == \"sex\":\n",
    "            print(f'{f}: Non-modifiable')\n",
    "        elif np.abs(delta[0][i]) > 1e-4:\n",
    "            if (delta[0][i] < 0):\n",
    "                print(f'Reduce {feature_names[f]} from {orig[0][i]} to {counterfactual[0][i]}')\n",
    "            elif delta[0][i] > 0:\n",
    "                print(f'Increase {feature_names[f]} from {orig[0][i]} to {counterfactual[0][i]}')\n",
    "            else:\n",
    "                print(f'No improvement needed for {f}')\n",
    "    \n",
    "    print(f\"\\nAfter the modification above, the patient will be predicted as {class_names[explanation.cf['class']]}\")\n",
    "    \n",
    "    return (orig, counterfactual)"
   ]
  },
  {
   "cell_type": "code",
   "execution_count": 28,
   "id": "ad5cf978",
   "metadata": {},
   "outputs": [],
   "source": [
    "def further_explain_to_cardiologist(example):\n",
    "    print(\"Let's predict the heart disease risk again based on modifiable variable...\")\n",
    "    print(example)\n",
    "#     age = example[0][0][0] # Non-modifiable\n",
    "#     sex = example[0][0][1] # Non-modifiable\n",
    "#     trestbps = example[1][0][2] # Counterfactual variable\n",
    "#     chol = example[1][0][3] # Counterfactual variable\n",
    "#     fbs = example[1][0][4] # Counterfactual variable\n",
    "    \n",
    "#     age              56.21\n",
    "# gender            2.00\n",
    "# cholesterol       1.00\n",
    "# gluc              1.00\n",
    "# smoke             0.00\n",
    "# bmi              23.88\n",
    "# systolic_bp     120.00\n",
    "# diastolic_bp     80.00\n",
    "\n",
    "#     old_prediction = model.predict(example[0])\n",
    "#     new_prediction = model.predict([[age, sex, trestbps, chol, fbs]])\n",
    "\n",
    "#     if (new_prediction[0] == old_prediction[0]):\n",
    "#         print(\"After modifying counterfactual variables, the heart disease prediction still remain the same \")\n",
    "#         print(\"You may contact the development team to make changes\")\n",
    "#     else:\n",
    "#         print('After modifying counterfactual variables, the heart disease prediction has improved')"
   ]
  },
  {
   "cell_type": "markdown",
   "id": "ee61d8a6",
   "metadata": {},
   "source": [
    "### Example 1"
   ]
  },
  {
   "cell_type": "code",
   "execution_count": 33,
   "id": "986a5b54",
   "metadata": {},
   "outputs": [
    {
     "name": "stdout",
     "output_type": "stream",
     "text": [
      "age              56.21\n",
      "gender            2.00\n",
      "cholesterol       1.00\n",
      "gluc              1.00\n",
      "smoke             0.00\n",
      "bmi              23.88\n",
      "systolic_bp     120.00\n",
      "diastolic_bp     80.00\n",
      "Name: 12439, dtype: float64\n",
      "\n",
      "Original prediction: 0\n",
      "Counterfactual prediction: 1\n",
      "\n",
      "age: Non-modifiable\n"
     ]
    },
    {
     "ename": "IndexError",
     "evalue": "only integers, slices (`:`), ellipsis (`...`), numpy.newaxis (`None`) and integer or boolean arrays are valid indices",
     "output_type": "error",
     "traceback": [
      "\u001b[0;31m---------------------------------------------------------------------------\u001b[0m",
      "\u001b[0;31mIndexError\u001b[0m                                Traceback (most recent call last)",
      "Cell \u001b[0;32mIn[33], line 1\u001b[0m\n\u001b[0;32m----> 1\u001b[0m example_2 \u001b[38;5;241m=\u001b[39m \u001b[43mexplain_to_cardiologist\u001b[49m\u001b[43m(\u001b[49m\u001b[38;5;241;43m5\u001b[39;49m\u001b[43m)\u001b[49m\n",
      "Cell \u001b[0;32mIn[32], line 26\u001b[0m, in \u001b[0;36mexplain_to_cardiologist\u001b[0;34m(idx)\u001b[0m\n\u001b[1;32m     24\u001b[0m     \u001b[38;5;28mprint\u001b[39m(\u001b[38;5;124mf\u001b[39m\u001b[38;5;124m'\u001b[39m\u001b[38;5;124mReduce \u001b[39m\u001b[38;5;132;01m{\u001b[39;00mfeature_names[f]\u001b[38;5;132;01m}\u001b[39;00m\u001b[38;5;124m from \u001b[39m\u001b[38;5;132;01m{\u001b[39;00morig[\u001b[38;5;241m0\u001b[39m][i]\u001b[38;5;132;01m}\u001b[39;00m\u001b[38;5;124m to \u001b[39m\u001b[38;5;132;01m{\u001b[39;00mcounterfactual[\u001b[38;5;241m0\u001b[39m][i]\u001b[38;5;132;01m}\u001b[39;00m\u001b[38;5;124m'\u001b[39m)\n\u001b[1;32m     25\u001b[0m \u001b[38;5;28;01melif\u001b[39;00m delta[\u001b[38;5;241m0\u001b[39m][i] \u001b[38;5;241m>\u001b[39m \u001b[38;5;241m0\u001b[39m:\n\u001b[0;32m---> 26\u001b[0m     \u001b[38;5;28mprint\u001b[39m(\u001b[38;5;124mf\u001b[39m\u001b[38;5;124m'\u001b[39m\u001b[38;5;124mIncrease \u001b[39m\u001b[38;5;132;01m{\u001b[39;00mfeature_names[f]\u001b[38;5;132;01m}\u001b[39;00m\u001b[38;5;124m from \u001b[39m\u001b[38;5;132;01m{\u001b[39;00morig[\u001b[38;5;241m0\u001b[39m][i]\u001b[38;5;132;01m}\u001b[39;00m\u001b[38;5;124m to \u001b[39m\u001b[38;5;132;01m{\u001b[39;00mcounterfactual[\u001b[38;5;241m0\u001b[39m][i]\u001b[38;5;132;01m}\u001b[39;00m\u001b[38;5;124m'\u001b[39m)\n\u001b[1;32m     27\u001b[0m \u001b[38;5;28;01melse\u001b[39;00m:\n\u001b[1;32m     28\u001b[0m     \u001b[38;5;28mprint\u001b[39m(\u001b[38;5;124mf\u001b[39m\u001b[38;5;124m'\u001b[39m\u001b[38;5;124mNo improvement needed for \u001b[39m\u001b[38;5;132;01m{\u001b[39;00mf\u001b[38;5;132;01m}\u001b[39;00m\u001b[38;5;124m'\u001b[39m)\n",
      "File \u001b[0;32m~/anaconda3/envs/AlibiExplain/lib/python3.9/site-packages/pandas/core/indexes/base.py:5339\u001b[0m, in \u001b[0;36mIndex.__getitem__\u001b[0;34m(self, key)\u001b[0m\n\u001b[1;32m   5336\u001b[0m     \u001b[38;5;28;01melse\u001b[39;00m:\n\u001b[1;32m   5337\u001b[0m         key \u001b[38;5;241m=\u001b[39m np\u001b[38;5;241m.\u001b[39masarray(key, dtype\u001b[38;5;241m=\u001b[39m\u001b[38;5;28mbool\u001b[39m)\n\u001b[0;32m-> 5339\u001b[0m result \u001b[38;5;241m=\u001b[39m \u001b[43mgetitem\u001b[49m\u001b[43m(\u001b[49m\u001b[43mkey\u001b[49m\u001b[43m)\u001b[49m\n\u001b[1;32m   5340\u001b[0m \u001b[38;5;66;03m# Because we ruled out integer above, we always get an arraylike here\u001b[39;00m\n\u001b[1;32m   5341\u001b[0m \u001b[38;5;28;01mif\u001b[39;00m result\u001b[38;5;241m.\u001b[39mndim \u001b[38;5;241m>\u001b[39m \u001b[38;5;241m1\u001b[39m:\n",
      "\u001b[0;31mIndexError\u001b[0m: only integers, slices (`:`), ellipsis (`...`), numpy.newaxis (`None`) and integer or boolean arrays are valid indices"
     ]
    }
   ],
   "source": [
    "example_2 = explain_to_cardiologist(5)"
   ]
  },
  {
   "cell_type": "code",
   "execution_count": null,
   "id": "20e74c7e",
   "metadata": {
    "scrolled": true
   },
   "outputs": [],
   "source": [
    "further_explain_to_cardiologist(example_2)"
   ]
  },
  {
   "cell_type": "markdown",
   "id": "df83d668",
   "metadata": {},
   "source": [
    "### Example 2"
   ]
  },
  {
   "cell_type": "code",
   "execution_count": null,
   "id": "7b0d362a",
   "metadata": {},
   "outputs": [],
   "source": [
    "example_3 = explain_to_cardiologist(14)"
   ]
  },
  {
   "cell_type": "markdown",
   "id": "10425737",
   "metadata": {},
   "source": [
    "Based on the above explanation, the patient is predicted as low risk currently.\n",
    "\n",
    "However, if the cholestrol level is increased from **184mmHg to 194.15 mmHg** , the patient will be predicted as high risk."
   ]
  },
  {
   "cell_type": "code",
   "execution_count": null,
   "id": "bba8f6bd",
   "metadata": {},
   "outputs": [],
   "source": [
    "pd.DataFrame(example_3[0], columns=feature_names)"
   ]
  },
  {
   "cell_type": "code",
   "execution_count": null,
   "id": "1d4f464a",
   "metadata": {},
   "outputs": [],
   "source": [
    "pd.DataFrame(example_3[1], columns=feature_names)"
   ]
  },
  {
   "cell_type": "code",
   "execution_count": null,
   "id": "b232b8b0",
   "metadata": {},
   "outputs": [],
   "source": [
    "further_explain_to_cardiologist(example_3)"
   ]
  },
  {
   "cell_type": "markdown",
   "id": "798c78dd",
   "metadata": {},
   "source": [
    "# Explanation for Physician"
   ]
  },
  {
   "cell_type": "code",
   "execution_count": null,
   "id": "2add6268",
   "metadata": {},
   "outputs": [],
   "source": []
  },
  {
   "cell_type": "code",
   "execution_count": null,
   "id": "46a23a9c",
   "metadata": {},
   "outputs": [],
   "source": [
    "def explain_to_physician(df_sample):\n",
    "    \n",
    "    original = df_sample.reshape((1,) + df_sample.shape)\n",
    "    \n",
    "    print('Age:', df_sample[0])\n",
    "    print('Sex:', 'Male' if df_sample[1] == 1 else 'Female')\n",
    "    print('Resting Blood Pressure:', df_sample[2])\n",
    "    print('Cholestrol level:', df_sample[3])\n",
    "    print('Fasting blood sugar level:', '> 120 mg/dl' if df_sample[4] == 1 else '< 120 mg/dl')\n",
    "    \n",
    "    explanation = cf.explain(original)\n",
    "    \n",
    "    print(f'\\nOriginal prediction: {explanation.orig_class}')\n",
    "    print(f'Counterfactual prediction: {explanation.cf[\"class\"]}')\n",
    "    print()\n",
    "    \n",
    "    feature_names = X.columns\n",
    "    \n",
    "    orig = original\n",
    "    counterfactual = explanation.cf['X']\n",
    "    delta = counterfactual - orig\n",
    "    \n",
    "    for i, f in enumerate(feature_names):\n",
    "        if f == \"age\" or f == \"sex\":\n",
    "            continue\n",
    "        elif np.abs(delta[0][i]) > 1e-4:\n",
    "            if (delta[0][i] < 0):\n",
    "                print(f'Reduce {full_name[f]} from {orig[0][i]} to {counterfactual[0][i]}')\n",
    "            else:\n",
    "                print(f'Increase {full_name[f]} from {orig[0][i]} to {counterfactual[0][i]}')\n",
    "    \n",
    "    return (orig, counterfactual)"
   ]
  },
  {
   "cell_type": "code",
   "execution_count": null,
   "id": "a4e557cd",
   "metadata": {},
   "outputs": [],
   "source": [
    "t = X_test.iloc[1].values\n",
    "print(type(t))"
   ]
  },
  {
   "cell_type": "code",
   "execution_count": null,
   "id": "2a9e8246",
   "metadata": {},
   "outputs": [],
   "source": [
    "input_patient = np.array([60, 1, 136, 195, 0])\n",
    "\n",
    "# print(input_patient)\n",
    "# original = input_patient.reshape((1,) + input_patient.shape)\n",
    "example_4 = explain_to_physician(input_patient)"
   ]
  },
  {
   "cell_type": "markdown",
   "id": "aa504def",
   "metadata": {},
   "source": [
    "Based to table below, although the patient is predicted as low risk, the blood pressure is at above borderline at his age.\n",
    "\n",
    "|             | Women        | Men          |\n",
    "| ----------- | ------------ | ------------ |\n",
    "| 18-39 years | 110/68 mm Hg | 119/70 mm Hg |\n",
    "| 40-59 years | 122/74 mm Hg | 124/77 mm Hg |\n",
    "| **60+ years**   | 139/68 mm Hg | **133/69 mm Hg** |\n",
    "\n",
    "\n",
    "**Recommendation**\n",
    "\n",
    "According the explanation model, your blood pressure is at borderline for high risk of heart disease. Once the blood pressure is increased to 137.25mmHg, the patient will be predicted as high risk.\n",
    "\n",
    "Since the patient is 60 years old, the patient may reduce his blood pressure with **low PA intensity activitiy**, such as \n",
    "1. Spending 30 minutes a day walking (4.0km/h - 4.8km/h) or \n",
    "2. Hook on a step tracker, and aim for an extra 1,000 steps a day\n",
    "\n",
    "> based on the handbook **[Primary & Secondary Prevention of Cardiovascular Disease 2017](https://www.moh.gov.my/moh/resources/Penerbitan/CPG/CARDIOVASCULAR/3.pdf)** by the **Ministry of Health**"
   ]
  },
  {
   "cell_type": "code",
   "execution_count": null,
   "id": "6b475d8b",
   "metadata": {},
   "outputs": [],
   "source": [
    "input_patient = np.array([65, 0, 162, 296, 0])\n",
    "\n",
    "# print(input_patient)\n",
    "# original = input_patient.reshape((1,) + input_patient.shape)\n",
    "example_4 = explain_to_physician(input_patient)"
   ]
  },
  {
   "cell_type": "markdown",
   "id": "01681aee",
   "metadata": {},
   "source": [
    "# Explanation for Patient"
   ]
  },
  {
   "cell_type": "code",
   "execution_count": null,
   "id": "f6892cc0",
   "metadata": {},
   "outputs": [],
   "source": [
    "input_patient = np.array([45, 0, 145, 180, 0])\n",
    "\n",
    "# print(input_patient)\n",
    "# original = input_patient.reshape((1,) + input_patient.shape)\n",
    "example_5 = explain_to_physician(input_patient)"
   ]
  },
  {
   "cell_type": "markdown",
   "id": "07fef54b",
   "metadata": {},
   "source": [
    "**Recommendation**\n",
    "\n",
    "However, according the explanation model, your blood pressure and cholestrol is at borderline for high risk of heart disease. \n",
    "\n",
    "Since the patient is 45 years old, the patient may reduce her blood pressure and cholestrol level by low PA intensity activitiy, such as \n",
    "1. Spending 60 minutes a day walking (4.0km/h - 4.8km/h) or \n",
    "2. Hook on a step tracker, and aim for an extra 2,000 steps a day\n",
    "3. Half of the plate being fruits and vegetables\n",
    "4. Consume non – fried & santan free dishes everyday\n",
    "\n",
    "> based on the handbook **[Primary & Secondary Prevention of Cardiovascular Disease 2017](https://www.moh.gov.my/moh/resources/Penerbitan/CPG/CARDIOVASCULAR/3.pdf)** by the **Ministry of Health**"
   ]
  },
  {
   "cell_type": "code",
   "execution_count": null,
   "id": "57520c8d",
   "metadata": {},
   "outputs": [],
   "source": [
    "def explain_to_physician(df_sample):\n",
    "    \n",
    "    original = df_sample.reshape((1,) + df_sample.shape)\n",
    "    \n",
    "    print('Age:', df_sample[0])\n",
    "    print('Sex:', 'Male' if df_sample[1] == 1 else 'Female')\n",
    "    print('Resting Blood Pressure:', df_sample[2])\n",
    "    print('Cholestrol level:', df_sample[3])\n",
    "    print('Fasting blood sugar level:', '> 120 mg/dl' if df_sample[4] == 1 else '< 120 mg/dl')\n",
    "    \n",
    "    explanation = cf.explain(original)\n",
    "    \n",
    "    print(f'\\nOriginal prediction: {explanation.orig_class}')\n",
    "    print(f'Counterfactual prediction: {explanation.cf[\"class\"]}')\n",
    "    print()\n",
    "    \n",
    "    feature_names = ['chol']\n",
    "    return (orig, counterfactual)\n",
    "    orig = original\n",
    "    counterfactual = explanation.cf['X']\n",
    "    delta = counterfactual - orig\n",
    "    \n",
    "    for i, f in enumerate(feature_names):\n",
    "        if f == \"age\" or f == \"sex\":\n",
    "            continue\n",
    "        elif np.abs(delta[0][i]) > 1e-4:\n",
    "            if (delta[0][i] < 0):\n",
    "                print(f'Reduce {full_name[f]} from {orig[0][i]} to {counterfactual[0][i]}')\n",
    "            else:\n",
    "                print(f'Increase {full_name[f]} from {orig[0][i]} to {counterfactual[0][i]}')\n",
    "    \n",
    "    return (orig, counterfactual)"
   ]
  },
  {
   "cell_type": "code",
   "execution_count": null,
   "id": "dcc3458e",
   "metadata": {},
   "outputs": [],
   "source": [
    "input_patient = np.array([45, 0, 145, 180, 0])\n",
    "\n",
    "# print(input_patient)\n",
    "# original = input_patient.reshape((1,) + input_patient.shape)\n",
    "example_6 = explain_to_physician(input_patient)"
   ]
  },
  {
   "cell_type": "code",
   "execution_count": null,
   "id": "6e8c9a05",
   "metadata": {},
   "outputs": [],
   "source": [
    "example_6[0]"
   ]
  },
  {
   "cell_type": "code",
   "execution_count": null,
   "id": "85a3c655",
   "metadata": {},
   "outputs": [],
   "source": [
    "example_6[1]"
   ]
  }
 ],
 "metadata": {
  "kernelspec": {
   "display_name": "Python 3 (ipykernel)",
   "language": "python",
   "name": "python3"
  },
  "language_info": {
   "codemirror_mode": {
    "name": "ipython",
    "version": 3
   },
   "file_extension": ".py",
   "mimetype": "text/x-python",
   "name": "python",
   "nbconvert_exporter": "python",
   "pygments_lexer": "ipython3",
   "version": "3.9.18"
  }
 },
 "nbformat": 4,
 "nbformat_minor": 5
}
